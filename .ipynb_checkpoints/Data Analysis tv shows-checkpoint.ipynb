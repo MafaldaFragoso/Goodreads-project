{
 "cells": [
  {
   "cell_type": "code",
   "execution_count": 7,
   "metadata": {},
   "outputs": [],
   "source": [
    "import pandas as pd"
   ]
  },
  {
   "cell_type": "code",
   "execution_count": 8,
   "metadata": {},
   "outputs": [],
   "source": [
    "data = pd.read_csv('Data/tvshows.csv')"
   ]
  },
  {
   "cell_type": "code",
   "execution_count": 9,
   "metadata": {},
   "outputs": [
    {
     "data": {
      "text/html": [
       "<div>\n",
       "<style scoped>\n",
       "    .dataframe tbody tr th:only-of-type {\n",
       "        vertical-align: middle;\n",
       "    }\n",
       "\n",
       "    .dataframe tbody tr th {\n",
       "        vertical-align: top;\n",
       "    }\n",
       "\n",
       "    .dataframe thead th {\n",
       "        text-align: right;\n",
       "    }\n",
       "</style>\n",
       "<table border=\"1\" class=\"dataframe\">\n",
       "  <thead>\n",
       "    <tr style=\"text-align: right;\">\n",
       "      <th></th>\n",
       "      <th>original_name</th>\n",
       "      <th>genre_ids</th>\n",
       "      <th>name</th>\n",
       "      <th>popularity</th>\n",
       "      <th>origin_country</th>\n",
       "      <th>vote_count</th>\n",
       "      <th>first_air_date</th>\n",
       "      <th>backdrop_path</th>\n",
       "      <th>original_language</th>\n",
       "      <th>id</th>\n",
       "      <th>vote_average</th>\n",
       "      <th>overview</th>\n",
       "      <th>poster_path</th>\n",
       "    </tr>\n",
       "  </thead>\n",
       "  <tbody>\n",
       "    <tr>\n",
       "      <td>0</td>\n",
       "      <td>Westworld</td>\n",
       "      <td>[878, 37]</td>\n",
       "      <td>Westworld</td>\n",
       "      <td>258.693</td>\n",
       "      <td>['US']</td>\n",
       "      <td>2196</td>\n",
       "      <td>2016-10-02</td>\n",
       "      <td>/yGNnjoIGOdQy3douq60tULY8teK.jpg</td>\n",
       "      <td>en</td>\n",
       "      <td>63247</td>\n",
       "      <td>8.1</td>\n",
       "      <td>A dark odyssey about the dawn of artificial co...</td>\n",
       "      <td>/y55oBgf6bVMI7sFNXwJDrSIxPQt.jpg</td>\n",
       "    </tr>\n",
       "    <tr>\n",
       "      <td>1</td>\n",
       "      <td>The Walking Dead</td>\n",
       "      <td>[18, 10759, 10765]</td>\n",
       "      <td>The Walking Dead</td>\n",
       "      <td>168.352</td>\n",
       "      <td>['US']</td>\n",
       "      <td>4815</td>\n",
       "      <td>2010-10-31</td>\n",
       "      <td>/wXXaPMgrv96NkH8KD1TMdS2d7iq.jpg</td>\n",
       "      <td>en</td>\n",
       "      <td>1402</td>\n",
       "      <td>7.4</td>\n",
       "      <td>Sheriff's deputy Rick Grimes awakens from a co...</td>\n",
       "      <td>/5l10EjdgPxu8Gbl5Ww6SWkVQH6T.jpg</td>\n",
       "    </tr>\n",
       "    <tr>\n",
       "      <td>2</td>\n",
       "      <td>Star Wars: The Clone Wars</td>\n",
       "      <td>[16, 10759, 10765]</td>\n",
       "      <td>Star Wars: The Clone Wars</td>\n",
       "      <td>153.975</td>\n",
       "      <td>['SG', 'US']</td>\n",
       "      <td>327</td>\n",
       "      <td>2008-10-03</td>\n",
       "      <td>/bcyK0lXgHxLIfuCfgbEJHKzKBHm.jpg</td>\n",
       "      <td>en</td>\n",
       "      <td>4194</td>\n",
       "      <td>7.9</td>\n",
       "      <td>Yoda, Obi-Wan Kenobi, Anakin Skywalker, Mace W...</td>\n",
       "      <td>/p6s2svEHHLsQ1TOw4Si54c1dD5L.jpg</td>\n",
       "    </tr>\n",
       "    <tr>\n",
       "      <td>3</td>\n",
       "      <td>Supernatural</td>\n",
       "      <td>[18, 9648, 10765]</td>\n",
       "      <td>Supernatural</td>\n",
       "      <td>121.033</td>\n",
       "      <td>['US']</td>\n",
       "      <td>2387</td>\n",
       "      <td>2005-09-13</td>\n",
       "      <td>/o9OKe3M06QMLOzTl3l6GStYtnE9.jpg</td>\n",
       "      <td>en</td>\n",
       "      <td>1622</td>\n",
       "      <td>7.6</td>\n",
       "      <td>When they were boys, Sam and Dean Winchester l...</td>\n",
       "      <td>/KoYWXbnYuS3b0GyQPkbuexlVK9.jpg</td>\n",
       "    </tr>\n",
       "    <tr>\n",
       "      <td>4</td>\n",
       "      <td>Grey's Anatomy</td>\n",
       "      <td>[18]</td>\n",
       "      <td>Grey's Anatomy</td>\n",
       "      <td>104.013</td>\n",
       "      <td>['US']</td>\n",
       "      <td>1395</td>\n",
       "      <td>2005-03-27</td>\n",
       "      <td>/edmk8xjGBsYVIf4QtLY9WMaMcXZ.jpg</td>\n",
       "      <td>en</td>\n",
       "      <td>1416</td>\n",
       "      <td>6.8</td>\n",
       "      <td>Follows the personal and professional lives of...</td>\n",
       "      <td>/jnsvc7gCKocXnrTXF6p03cICTWb.jpg</td>\n",
       "    </tr>\n",
       "  </tbody>\n",
       "</table>\n",
       "</div>"
      ],
      "text/plain": [
       "               original_name           genre_ids                       name  \\\n",
       "0                  Westworld           [878, 37]                  Westworld   \n",
       "1           The Walking Dead  [18, 10759, 10765]           The Walking Dead   \n",
       "2  Star Wars: The Clone Wars  [16, 10759, 10765]  Star Wars: The Clone Wars   \n",
       "3               Supernatural   [18, 9648, 10765]               Supernatural   \n",
       "4             Grey's Anatomy                [18]             Grey's Anatomy   \n",
       "\n",
       "   popularity origin_country  vote_count first_air_date  \\\n",
       "0     258.693         ['US']        2196     2016-10-02   \n",
       "1     168.352         ['US']        4815     2010-10-31   \n",
       "2     153.975   ['SG', 'US']         327     2008-10-03   \n",
       "3     121.033         ['US']        2387     2005-09-13   \n",
       "4     104.013         ['US']        1395     2005-03-27   \n",
       "\n",
       "                      backdrop_path original_language     id  vote_average  \\\n",
       "0  /yGNnjoIGOdQy3douq60tULY8teK.jpg                en  63247           8.1   \n",
       "1  /wXXaPMgrv96NkH8KD1TMdS2d7iq.jpg                en   1402           7.4   \n",
       "2  /bcyK0lXgHxLIfuCfgbEJHKzKBHm.jpg                en   4194           7.9   \n",
       "3  /o9OKe3M06QMLOzTl3l6GStYtnE9.jpg                en   1622           7.6   \n",
       "4  /edmk8xjGBsYVIf4QtLY9WMaMcXZ.jpg                en   1416           6.8   \n",
       "\n",
       "                                            overview  \\\n",
       "0  A dark odyssey about the dawn of artificial co...   \n",
       "1  Sheriff's deputy Rick Grimes awakens from a co...   \n",
       "2  Yoda, Obi-Wan Kenobi, Anakin Skywalker, Mace W...   \n",
       "3  When they were boys, Sam and Dean Winchester l...   \n",
       "4  Follows the personal and professional lives of...   \n",
       "\n",
       "                        poster_path  \n",
       "0  /y55oBgf6bVMI7sFNXwJDrSIxPQt.jpg  \n",
       "1  /5l10EjdgPxu8Gbl5Ww6SWkVQH6T.jpg  \n",
       "2  /p6s2svEHHLsQ1TOw4Si54c1dD5L.jpg  \n",
       "3   /KoYWXbnYuS3b0GyQPkbuexlVK9.jpg  \n",
       "4  /jnsvc7gCKocXnrTXF6p03cICTWb.jpg  "
      ]
     },
     "execution_count": 9,
     "metadata": {},
     "output_type": "execute_result"
    }
   ],
   "source": [
    "data.head()"
   ]
  },
  {
   "cell_type": "code",
   "execution_count": 10,
   "metadata": {},
   "outputs": [
    {
     "data": {
      "text/plain": [
       "(470, 13)"
      ]
     },
     "execution_count": 10,
     "metadata": {},
     "output_type": "execute_result"
    }
   ],
   "source": [
    "data.shape"
   ]
  },
  {
   "cell_type": "code",
   "execution_count": 11,
   "metadata": {},
   "outputs": [
    {
     "data": {
      "text/plain": [
       "pandas.core.frame.DataFrame"
      ]
     },
     "execution_count": 11,
     "metadata": {},
     "output_type": "execute_result"
    }
   ],
   "source": [
    "type(data)"
   ]
  },
  {
   "cell_type": "code",
   "execution_count": 13,
   "metadata": {},
   "outputs": [
    {
     "data": {
      "text/plain": [
       "original_name          0\n",
       "genre_ids              0\n",
       "name                   0\n",
       "popularity             0\n",
       "origin_country         0\n",
       "vote_count             0\n",
       "first_air_date         9\n",
       "backdrop_path         80\n",
       "original_language      0\n",
       "id                     0\n",
       "vote_average           0\n",
       "overview             146\n",
       "poster_path           51\n",
       "dtype: int64"
      ]
     },
     "execution_count": 13,
     "metadata": {},
     "output_type": "execute_result"
    }
   ],
   "source": [
    "data.isnull().sum(axis = 0)"
   ]
  },
  {
   "cell_type": "code",
   "execution_count": 14,
   "metadata": {},
   "outputs": [
    {
     "name": "stdout",
     "output_type": "stream",
     "text": [
      "<class 'pandas.core.frame.DataFrame'>\n",
      "RangeIndex: 470 entries, 0 to 469\n",
      "Data columns (total 13 columns):\n",
      "original_name        470 non-null object\n",
      "genre_ids            470 non-null object\n",
      "name                 470 non-null object\n",
      "popularity           470 non-null float64\n",
      "origin_country       470 non-null object\n",
      "vote_count           470 non-null int64\n",
      "first_air_date       461 non-null object\n",
      "backdrop_path        390 non-null object\n",
      "original_language    470 non-null object\n",
      "id                   470 non-null int64\n",
      "vote_average         470 non-null float64\n",
      "overview             324 non-null object\n",
      "poster_path          419 non-null object\n",
      "dtypes: float64(2), int64(2), object(9)\n",
      "memory usage: 47.9+ KB\n"
     ]
    }
   ],
   "source": [
    "data.info()"
   ]
  },
  {
   "cell_type": "code",
   "execution_count": 15,
   "metadata": {},
   "outputs": [
    {
     "data": {
      "text/plain": [
       "original_name        468\n",
       "genre_ids            106\n",
       "name                 468\n",
       "popularity           401\n",
       "origin_country        43\n",
       "vote_count            92\n",
       "first_air_date       328\n",
       "backdrop_path        390\n",
       "original_language     29\n",
       "id                   470\n",
       "vote_average          59\n",
       "overview             323\n",
       "poster_path          419\n",
       "dtype: int64"
      ]
     },
     "execution_count": 15,
     "metadata": {},
     "output_type": "execute_result"
    }
   ],
   "source": [
    "data.nunique()"
   ]
  },
  {
   "cell_type": "code",
   "execution_count": 18,
   "metadata": {},
   "outputs": [
    {
     "data": {
      "text/plain": [
       "array(['Westworld', 'The Walking Dead', 'Star Wars: The Clone Wars',\n",
       "       'Supernatural', \"Grey's Anatomy\", 'Supergirl', 'The Good Doctor',\n",
       "       'The Blacklist', 'Star Trek: Picard', 'Better Call Saul',\n",
       "       'Outlander', 'Legacies', 'NCIS', 'Chicago Fire', 'Homeland',\n",
       "       'Brooklyn Nine-Nine', 'Modern Family', 'Devs', 'Chicago P.D.',\n",
       "       'Batwoman', 'Keeping Up with the Kardashians', 'SEAL Team',\n",
       "       'Ozark', 'One Day at a Time', 'Strike the Blood',\n",
       "       'Motherland: Fort Salem', 'The Plot Against America',\n",
       "       'Strike Back', 'S.W.A.T.', 'The Magicians', 'Amazing Stories',\n",
       "       'Roswell, New Mexico', 'Manifest', 'Empire', 'Kamen Rider',\n",
       "       'Chicago Med', 'Prodigal Son', 'MacGyver', 'Plunderer',\n",
       "       'When Calls the Heart', 'Bull', 'Eternal Love of Dream',\n",
       "       'Running Man', 'WWE Raw', 'Station 19', 'The Sinner',\n",
       "       'Bizim Hikaye', 'FBI: Most Wanted', 'Cops', \"Schitt's Creek\",\n",
       "       'Casualty', 'Case Closed', 'Sesame Street', 'Good Girls', 'Cosmos',\n",
       "       'Dark Side of the Ring', 'Saturday Night Live', 'Super Sentai',\n",
       "       'My Hero Academia', \"Julie's Magic Touch\",\n",
       "       'Little Fires Everywhere', 'Last Man Standing', 'The Voice',\n",
       "       'Real Time with Bill Maher', 'A Million Little Things',\n",
       "       'Miracle Workers', 'Welcome', 'Belgravia', 'Superstore', '7SEEDS',\n",
       "       'Breeders', 'Liar', 'Katy Keene', 'Bulletproof', 'Charmed',\n",
       "       'American Housewife', 'The Pit', 'Mocro Maffia', 'Endless Love',\n",
       "       'Stumptown', 'Tacoma FD', 'The Curse of Oak Island', 'Yeni Hayat',\n",
       "       'Infinite Dendrogram', 'Black Monday', 'The Bold Type',\n",
       "       'A Certain Scientific Railgun', 'Dynasty', 'Briarpatch',\n",
       "       'The Challenge', \"Raven's Home\", 'Unorthodox',\n",
       "       'Dispatches from Elsewhere', 'Coronation Street', 'SOKO Leipzig',\n",
       "       'Spides', 'Interspecies Reviewers', 'Days of Our Lives',\n",
       "       \"Zoey's Extraordinary Playlist\", \"All Round to Mrs Brown's\",\n",
       "       'Stateless', '257 причин, чтобы жить', 'WWE NXT',\n",
       "       'The Furious Yama', 'Vagrant Queen', 'Talking Dead',\n",
       "       'Ace of Diamond', 'God Friended Me',\n",
       "       'BOFURI: I Don’t Want to Get Hurt, so I’ll Max Out My Defense.',\n",
       "       'High Maintenance', 'Ride with Norman Reedus',\n",
       "       'Science Fell in Love, So I Tried to Prove It', 'Brockmire',\n",
       "       'The Masked Singer', 'Dave', 'Einstein',\n",
       "       'The World of the Married', 'Teen Mom OG', 'Патриот',\n",
       "       'Find Me in Your Memory', 'El hormiguero 3.0', 'All Rise',\n",
       "       'Eccentric! Chef Moon', 'In/Spectre', 'Big Brother Canada',\n",
       "       'Boruto: Naruto Next Generations', 'Nailed It!', 'Les Newbies',\n",
       "       \"Workin' Moms\", 'The Young and the Restless', 'Chopped',\n",
       "       'Almost Paradise', 'The Seven Deadly Sins', 'Like Monica',\n",
       "       'Our Cartoon President', 'How to Fix a Drug Scandal',\n",
       "       'My 600-lb Life', 'Asteroid in Love', 'Cold Justice', 'Dorohedoro',\n",
       "       'Transplant', 'Plus belle la vie', 'Our Girl', 'Bella da morire',\n",
       "       'Car S.O.S.', 'Once Again', 'General Hospital',\n",
       "       'Full Frontal with Samantha Bee', 'Escape to the Country',\n",
       "       'The Crown of the Kings', 'Nekopara', 'Hercai', 'Danger Force',\n",
       "       'If My Favorite Pop Idol Made it to the Budokan, I Would Die',\n",
       "       '90 Day Fiancé: Before the 90 Days', 'The Masked Singer Austria',\n",
       "       'The Wiggles', 'Power Rangers', 'WWE 205 Live',\n",
       "       'The Great Food Truck Race', \"Mark Kermode's Secrets of Cinema\",\n",
       "       'Forged in Fire', 'Isekai Quartet', 'The Trip',\n",
       "       'Australian Survivor', 'Ask This Old House', 'Memorist', 'Tribal',\n",
       "       'Hamburg Dockland', 'Bulle', 'A Destructive God Sits Next to Me',\n",
       "       'Demon Spirit Seed Manual', 'The Daily Life of the Immortal King',\n",
       "       'Blade of the Immortal', 'Three Busy Debras',\n",
       "       'State of Siege 26/11', 'The Children of the Street', 'Indebted',\n",
       "       \"Dragons' Den\", 'Shahs of Sunset', 'Une belle histoire',\n",
       "       'True Terror with Robert Englund', 'Married at First Sight',\n",
       "       \"Kim's Convenience\", 'VICE', 'The Sommerdahl Murders',\n",
       "       'Mama June: From Not to Hot', \"Tyler Perry's Sistas\", 'Outmatched',\n",
       "       'Beat Bobby Flay', '22/7 (nanabun no nijyuuni)',\n",
       "       'Toilet-Bound Hanako-kun', 'The Fortnight',\n",
       "       'Do You Love Your Mom and Her Two-Hit Multi-Target Attacks?',\n",
       "       \"Tyler Perry's Young Dylan\", 'WWE Friday Night SmackDown',\n",
       "       'Turn Left Turn Right สมองเลี้ยวซ้าย หัวใจเลี้ยวขวา', 'New Sex Ed',\n",
       "       'Noughts + Crosses', 'Jersey Shore: Family Vacation',\n",
       "       'Folkeopplysningen', 'Dwight in Shining Armor', 'LEGO Masters',\n",
       "       'Somali and the Forest Spirit', \"L'enfer, c'est chez nous\",\n",
       "       'The Incredible Dr. Pol', 'Little death', 'Tower of God', 'NVL',\n",
       "       'Stulecie Winnych', 'Awkwafina is Nora From Queens',\n",
       "       'Shironeko Project: Zero Chronicle', \"Ryan's Mystery Playdate\",\n",
       "       'Vegas Chef Prizefight', 'The Nest', 'Paytakht 6', 'Fatal Promise',\n",
       "       'Bad Love', 'Smile Down the Runway', 'Nos Tempos do Imperador',\n",
       "       'Classe à part', 'Gracious Revenge', 'Dear Heirs',\n",
       "       'Marielle: O Documentário', 'Mysteries of the Abandoned',\n",
       "       'Der Lehrer', 'District 31', 'Soul Land', 'The Windsors',\n",
       "       'Hatena Illusion', 'The Liar', 'Family Karma', 'Buddy vs. Duff',\n",
       "       'Engagez-moi', 'Below Deck Sailing Yacht',\n",
       "       'Ringo, la pelea de su vida', 'Pet',\n",
       "       'The Case Files of Jeweler Richard', 'Zakochani po uszy',\n",
       "       'Tamayomi', 'La nouvelle affaire', 'number24', 'Koh Lanta',\n",
       "       'Back in Time for the Corner Shop', 'Mucize Doktor',\n",
       "       'Alla mot alla med Filip och Fredrik', 'Faits divers',\n",
       "       'Oda Cinnamon Nobunaga', 'Wanna Taste?', '76号恐怖書店', 'Sérieux ?',\n",
       "       'Smartare än en femteklassare?', 'Unsoul', 'Astrid et Raphaëlle',\n",
       "       'Ślad', 'Die Höhle der Löwen', 'Maintenant ou jamais', 'Q&A',\n",
       "       'Power Rangers Beast Morphers', 'Portals to Hell', 'Kees & Co',\n",
       "       'ספיידרז', '冰糖炖雪梨', \"Gold Rush: Parker's Trail\", 'Irish Pickers',\n",
       "       'In For a Penny', 'This Is It', 'Archiwista',\n",
       "       \"C'est juste de la TV\", '嗜谎之神', 'Les francs-tireurs',\n",
       "       'Race Across the World', 'Lâcher prise', 'ARP Backstage Pass',\n",
       "       'รักวุ่นๆ ของหนุ่มวิศวะ - วิศวะมีเกียร์น่ะเมียหมอ',\n",
       "       'Les Marseillais aux Caraïbes', 'Blutige Anfänger', 'The Trade',\n",
       "       'All Elite Wrestling: Dynamite', 'Iron Resurrection',\n",
       "       'Show by Rock!! Mashumairesh!!', 'The Heroes of Our Time',\n",
       "       'Expédition extrême', '梦魔の街コルネリカ',\n",
       "       'The Station: Trouble on the Tracks', 'Lombard. Życie pod zastaw',\n",
       "       'Wild Frank', 'The Big Questions', 'Zrádci', 'De Mol',\n",
       "       'My Engineer', 'Reborn', 'Diggstown', 'Ça finit bien la semaine',\n",
       "       'Les enfants de la télé', 'Dutch Hope', 'Zawsze warto', 'La Voix',\n",
       "       'How Do You Play?', 'Scandinavian Star', 'Veneno', 'The End',\n",
       "       'The Haunted House', 'Dunkelstadt',\n",
       "       \"Ainsley's Mediterranean Cookbook\", 'Skinny Girl in Transit',\n",
       "       'Reporterzy. Z życia wzięte', 'The Crystal Maze', 'Bäst i test',\n",
       "       'Blood', 'Deux hommes en or', 'Family Food Fight', 'Echo serca',\n",
       "       'Angel Beside Me', 'Floortje To The End Of The World',\n",
       "       'LEGO City Adventures', 'Gloria', 'MasterChef', 'Summer House',\n",
       "       'WWE NXT UK', 'Kod genetyczny', 'Dream School',\n",
       "       \"Disney's Fairy Tale Weddings\", 'A mi kis falunk',\n",
       "       'Phantasy Star Online 2: Episode Oracle', 'IMPACT! Wrestling',\n",
       "       'Yuru Camp △ Live Action', \"L'amour est dans le pré\",\n",
       "       'Dancing Stars', 'Ricardo', 'Rentnercops',\n",
       "       'Bake Off Argentina: El gran Pastelero', 'Meet the Richardsons',\n",
       "       'Danger of Her', 'Love Me', 'Sauvages et orphelins', 'Infoman',\n",
       "       'Dr. Cutie', 'Miss Truth', \"Whatcha Packin'\", 'Quer o Destino',\n",
       "       'Soltos em Floripa', 'Les Mills on Demand', 'Колл-центр',\n",
       "       'ENTEN/ELLER', 'Première ligne : chaque seconde compte',\n",
       "       'เพี้ยนแล้วไงรักนายแล้วกัน', 'Un Poquito Tuyo', 'The Heist',\n",
       "       'Dung Duang Haruetai', 'WaPo Bodensee', 'Enquête', 'Święty',\n",
       "       'เล่ห์บรรพกาล', '手可摘星辰', 'Secrets of the Zoo: Down Under',\n",
       "       'Mintaapák', 'The Bold and the Beautiful', 'Wait in Beijing',\n",
       "       'Leh Ban Pa Kal', 'I Can See Your Voice', \"L'indice Mc$ween\",\n",
       "       'Une autre histoire', 'Warbird Workshop', 'Planète techno',\n",
       "       'The Substitute', 'Hospital', 'קיבוצניקים',\n",
       "       'Haunting in the Heartland', 'Animal Shelter', 'Ameryka Express',\n",
       "       'The Deed:Chicago', 'Tournament of Champions', 'Kindred Spirits',\n",
       "       'De kijk van Koolhoven', 'La semaine des 4 Julie',\n",
       "       'Un souper presque parfait', 'On va se le dire', 'The Voice Kids',\n",
       "       \"Baek Jong-won's Alley Restaurant\", 'De MUG', 'Tonio & Julia',\n",
       "       'Down The Road', 'Ham Gonah', 'Jenny', 'Week-end de bois',\n",
       "       '999: On the Frontline', 'Sapai Import',\n",
       "       'La belle vie avec Go-Van', 'Heart Signal', 'Gogglebox',\n",
       "       'The Love by Hypnotic', \"Phil s'invite\", 'Club 57', 'Po hlavě',\n",
       "       'Maître du chantier', 'Random Acts',\n",
       "       \"99 envies d'évasion - Mexico, Nouvelles-Orléans, Paris\",\n",
       "       'Politie 24/7', \"On se fera pas d'amis\", 'De Amazone',\n",
       "       'Hypothetical', 'You Are the Miracle', 'Doc humanité',\n",
       "       '#CasaDoCais', 'Svenska nyheter', 'Rev & Roll', 'Expat',\n",
       "       'Rénover pour louer', 'Oniva!', 'Post Factum', 'Over Atlanten',\n",
       "       'Amar a Morir', 'Místo zločinu Ostrava', 'Survivalistes',\n",
       "       '1res fois', 'Cochon dingue', '决胜法庭', 'Jeunes chefs en mission',\n",
       "       'MTV Shuga', \"L'effet secondaire\", 'Jhooti', '#LikeMe',\n",
       "       'auto mobil - Das VOX-Automagazin', 'JTBC Newsroom', 'სხვა ნანუკა',\n",
       "       'Chocolate War', 'ฟ้าฝากรัก', 'Talay Prae', 'The Mysterious World',\n",
       "       'Lookism', \"WWE's The Bump\", 'Pyar Ke Sadqey', 'Big Brother S',\n",
       "       'Mya Go', 'ختم النمر', 'Cennet Todo Vuelve',\n",
       "       'The Legend of Young Justice Bao', 'Yeter',\n",
       "       'Legends in time to come', 'Beyhadh 2', 'Thora Sa Haq',\n",
       "       'Direction la mer', 'Heart', 'RPM+', 'RPM', 'Animania',\n",
       "       'Coups de cochon', 'Mercado central', 'La course folle',\n",
       "       'Pedal to the Metal', 'ดาวของนายหัวใจของผม', 'Bien',\n",
       "       'Vendre ou rénover au Québec', 'Ça me regarde', 'De par chez nous',\n",
       "       'Pas plus bêtes que nous', \"Les naufragés de l'amour\",\n",
       "       \"C'est quoi ton plan ?\", 'Au suivant!', \"L'épicerie\",\n",
       "       \"E poi c'è Cattelan\", '24CH', 'devilish charm', 'Somehow Family',\n",
       "       'Hitmen', 'Проект «Анна Николаевна»', 'Wischen ist Macht'],\n",
       "      dtype=object)"
      ]
     },
     "execution_count": 18,
     "metadata": {},
     "output_type": "execute_result"
    }
   ],
   "source": [
    "data['name'].unique()"
   ]
  },
  {
   "cell_type": "code",
   "execution_count": 19,
   "metadata": {},
   "outputs": [
    {
     "name": "stdout",
     "output_type": "stream",
     "text": [
      "Number of duplicate records dropped:  0\n"
     ]
    }
   ],
   "source": [
    "before = len(data)\n",
    "data = data.drop_duplicates()\n",
    "after = len(data)\n",
    "print('Number of duplicate records dropped: ', str(before - after))"
   ]
  }
 ],
 "metadata": {
  "kernelspec": {
   "display_name": "Python 3",
   "language": "python",
   "name": "python3"
  },
  "language_info": {
   "codemirror_mode": {
    "name": "ipython",
    "version": 3
   },
   "file_extension": ".py",
   "mimetype": "text/x-python",
   "name": "python",
   "nbconvert_exporter": "python",
   "pygments_lexer": "ipython3",
   "version": "3.7.4"
  }
 },
 "nbformat": 4,
 "nbformat_minor": 2
}
